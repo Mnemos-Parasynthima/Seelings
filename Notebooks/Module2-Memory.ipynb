{
 "cells": [
  {
   "cell_type": "markdown",
   "id": "784c2570",
   "metadata": {},
   "source": [
    "# Module 2 - Memory"
   ]
  },
  {
   "cell_type": "markdown",
   "id": "9b15b7b6",
   "metadata": {},
   "source": [
    "The concept of memory is pervasive in C. Knowledge about the layout and how to access it is vital to many operations in C. Additionally, considering the low level, there is the need to manage memory, especially for the heap.\n",
    "\n",
    "Although the process space has different sections, the more important ones are:\n",
    "- stack\n",
    "- heap\n",
    "- code segment\n",
    "- data segment (static [read-only], initialized, uninitialized)\n",
    "\n"
   ]
  },
  {
   "cell_type": "markdown",
   "id": "e9548722",
   "metadata": {},
   "source": [
    "## Stack"
   ]
  },
  {
   "cell_type": "markdown",
   "id": "a483822f",
   "metadata": {},
   "source": [
    "Recall that the stack grows (downwards is the norm but it can also grow upwards). Additionally, the stack has stack frames (also known as activation records or activation frames) that are per-function, which keep track of locals and arguments. This is one form of a scope, the function scope. The call stack (or function stack or also just The stack), works just like the stack data structure. Recall the classic operations: push and pop. This applies for the call stack, as in pushing and popping frames, and more in detail, pushing/popping data.\n",
    "\n",
    "At the macro level, stack frames are pushed and popped off the stack each time a function gets called (push) and returns (popped). At the micro level, variables/data are/is pushed and popped off. Recall the assembly in **Module 1**. The instruction `push` (and its counter `pop`) push/pop the data provided to it. This performs other operations underneath the hood (not within this scope) but it indicates the beginning/end of a function. Data is pushed only if it needs saving*.\n",
    "\n",
    "*When looking at dissassembly of C code, I often see the compiler pushing data that there is no need to save but maybe it is because of the design trying to compile general code.\n",
    "\n",
    "Data that is not statically created (this gets placed in the data segments) is placed in the stack. One clear example is in **Module 1** for the example with `highestGrades`. In `main()`, the `grades` array is declared and built. Looking at the assembly, one can see `mov DWORD PTR [rbp-0x30],0x64`. For now, `rbp` just points to the current pointer to the stack. So, it moves `0x64` to the stack at position `rbp-0x30`. Additionally, this is how arguments are passed in, although depending on the calling convention.\n",
    "\n",
    "When a frame is popped off, nothing is being removed. The pointer is simply moved. And when a new frame is pushed, the pointer is changed, meaning the new data overrides the old. This is why it is dangerous to return pointers to stack-allocated data."
   ]
  },
  {
   "cell_type": "code",
   "execution_count": null,
   "id": "b8bd96c1",
   "metadata": {},
   "outputs": [
    {
     "name": "stderr",
     "output_type": "stream",
     "text": [
      "/tmp/tmpmhe27yel.c: In function ‘fn’:\n",
      "/tmp/tmpmhe27yel.c:6:16: warning: function returns address of local variable [-Wreturn-local-addr]\n",
      "    6 |         return &n;\n",
      "      |                ^~\n"
     ]
    },
    {
     "name": "stdout",
     "output_type": "stream",
     "text": [
      "(nil)\n"
     ]
    }
   ],
   "source": [
    "#include <stdio.h>\n",
    "\n",
    "char* fn(void) {\n",
    "\tchar n = 'C';\n",
    "\treturn &n;\n",
    "}\n",
    "\n",
    "int main(void) {\n",
    "\tchar* r = fn();\n",
    "\tprintf(\"%p\\n\", r);\n",
    "\n",
    "\treturn 0;\n",
    "}"
   ]
  },
  {
   "cell_type": "markdown",
   "id": "05ec7d42",
   "metadata": {},
   "source": [
    "As seen above, doing so will give a warning and it does not even return the address, as seen by \"(nil)\", meaning null. However, the error can be circumvented."
   ]
  },
  {
   "cell_type": "code",
   "execution_count": null,
   "id": "1e24ebfc",
   "metadata": {},
   "outputs": [
    {
     "name": "stdout",
     "output_type": "stream",
     "text": [
      "0x7fff3535d36f: C\n"
     ]
    }
   ],
   "source": [
    "#include <stdio.h>\n",
    "\n",
    "char* fn(void) {\n",
    "\tchar n = 'C';\n",
    "\tchar* np = &n;\n",
    "\treturn np;\n",
    "}\n",
    "\n",
    "int main(void) {\n",
    "\tchar* r = fn();\n",
    "\tprintf(\"%p: %c\\n\", r, *r);\n",
    "\n",
    "\treturn 0;\n",
    "}"
   ]
  },
  {
   "cell_type": "markdown",
   "id": "8889a064",
   "metadata": {},
   "source": [
    "The built-in check does not happen due to returning the pointer indirectly, instead of `return &n`. Suppose after collecting the address in `main()` and keeping the pointer `r`, another function is called and new data is written to `0x7fff8b9a182f`. When attempting to read from `r`, it will read the new data. This is just a simply scenario but it has dangerous implications."
   ]
  },
  {
   "cell_type": "markdown",
   "id": "d9279a30",
   "metadata": {},
   "source": [
    "## Heap"
   ]
  },
  {
   "cell_type": "markdown",
   "id": "eecc4448",
   "metadata": {},
   "source": [
    "Recall that the heap is where \"objects\". To be generic, where dynamically allocated data goes. This can be as simple as a single integer."
   ]
  },
  {
   "cell_type": "code",
   "execution_count": null,
   "id": "bdf6b5d7",
   "metadata": {},
   "outputs": [
    {
     "name": "stdout",
     "output_type": "stream",
     "text": [
      "Heap int@0x5637e4839840: 4\n"
     ]
    }
   ],
   "source": [
    "#include <stdio.h>\n",
    "#include <stdlib.h>\n",
    "\n",
    "int main(void) {\n",
    "\tint* heapInt = malloc(sizeof(int) * 1);\n",
    "\t*heapInt = 4;\n",
    "\n",
    "\tprintf(\"Heap int@%p: %d\\n\", heapInt, *heapInt);\n",
    "\n",
    "\tfree(heapInt);\n",
    "\n",
    "\treturn 0;\n",
    "}"
   ]
  },
  {
   "cell_type": "markdown",
   "id": "33e6e528",
   "metadata": {},
   "source": [
    "Accessing data placed in the heap requires the usage of pointers (see next section), since this allows the use/access of such data. However, unlike the stack when popping data, data in the heap does not get automatically collected. Hence, the need for memory management. The system varies between languages, some using garbage collection (like Java, Python, Javascript) while others require manual collection (C, C++, Zig). There also exists a \"new\" model, implemented by Rust via its borrowing model.\n",
    "\n",
    "In Java, heap allocations are (implcitly) done via the `new` keyword, such as `String str = new String(\"Heap!\");`. The runtime then periodically runs the garbage collector to check whether to deallocate `str` (and other objects). One does not need to worry as much regarding memory due to this. However, memory consumption/usage is required to think about when writing C. If no data is freed when done being used (memory leak), over time, the leaks will pile up while more memory is requested, until at some point, the operating system just stops it. This is why it is imperative to free data once it is no longer used and manage the freeing properly, as other errors such as double frees can pop up."
   ]
  },
  {
   "cell_type": "markdown",
   "id": "a3fdb816",
   "metadata": {},
   "source": [
    "There is a useful tool called `valgrind` that can check memory errors, such as double frees, memory leaks, invalid reads/writes, etc. However, it sometimes can be a bit cryptic on what the error specifically means or what may have caused it."
   ]
  },
  {
   "cell_type": "markdown",
   "id": "07a75dc1",
   "metadata": {},
   "source": [
    "## Pointers"
   ]
  },
  {
   "cell_type": "markdown",
   "id": "c7dcfacb",
   "metadata": {},
   "source": [
    "Pointers are scattered all over C code and are a foundational point of writing C. 9/10 times you will encounter and/or use pointers. As mentioned before, recall that pointers are merely addresses (aka numbers). So, `0xaef0` can be considered both an address and a \"normal\" number. However, considering machines these days are 64 bit, meaning it can address using 64 bits, the range of addressable locations is quite big. Additionally, certain ranges of addresses are reserved for certain sections for a process (Process Address Space). For example, the Aru32 architecture has its entire memory layout as follows:\n",
    "| Address Range           | Purpose    |\n",
    "| ----------------------- | ---------- |\n",
    "| 0x00000000 - 0x0003FFFF | Reserved   |\n",
    "| 0x00040000 - 0x2003FFFF | Bootloader |\n",
    "| 0x20040000 - 0xA003FFFF | User Space |\n",
    "| 0xA0040000 - 0xA007FFF  | Buffer     |\n",
    "| 0xA0080000 - 0xFFFFFFFF | Kernel/OS  |\n",
    "\n",
    "with the process address space as:\n",
    "\n",
    "| Address Range           | Section            |\n",
    "| ----------------------- | ------------------ |\n",
    "| 0x20040000 - 0x2007FFFF | Uninitialized Data |\n",
    "| 0x20080000 - 0x2008FFFF | Constant Data      |\n",
    "| 0x20090000 - 0x2018FFFF | Data               |\n",
    "| 0x20190000 - 0x2098FFFF | Text               |\n",
    "| 0x20990000 - 0x6098FFFF | Heap               |\n",
    "| 0x60990000 - 0x609907FF | Safeguard          |\n",
    "| 0x60990800 - 0x709907FF | Stack              |\n",
    "| 0x70990800 - 0xA007FFF  | Unused             |\n",
    "\n",
    "So for user code running on the IAru-0, pointers are only* valid between `0x20040000` and `0x709907ff`. If a pointer would be the number `0x20de4` and then attempted to be used, the system would see that it is ran by a user procress and the address is in a reserved space, thus it would lead to a segmentation fault (oh the dreaded segfault!) and crash. This leads to the most common type of segfault: null pointers.\n",
    "\n",
    "Null pointers are just `0x0`. So having `int* ptr = 0x0` would be the same thing as `int* ptr = NULL` (except the compiler would complain). Similar to the Aru32 architecture, many other systems have the space from `0x0` to some address reserved, especially `0x0`. So when accesing address `0x0`, it leads to a null pointer dereference.\n",
    "\n",
    "Nonetheless, pointers are how data is referred to from anywhere (including code), including accessing (dereferencing) the data.\n",
    "\n",
    "A more common way of thinking pointers are references, similar to the concept of pass-by-reference found in Java. Using pointers allows passing and changing data through functions, which is helpful in certain scenarios where returning multiple values (and one value is an input) is needed.\n",
    "\n"
   ]
  },
  {
   "cell_type": "markdown",
   "id": "f352755e",
   "metadata": {},
   "source": [
    "Since pointers are just numbers, basic arithmetic can be applied. However, even though operations other than addition and multiplication are technically allowed, it would lead to bugs, safety breaches, and undefined behavior.\n",
    "\n",
    "Adding/subtracting pointers simply allows us to \"move\" through memory. This was seen prior regarding arrays. Since arrays are contigious bytes of memory, iterating through them simply means adding to a pointer then dereferencing. If `int* arr;`, then `*(arr + 3)` would first add 3 to the address held by `arr`, then from there, access/dereference it. However, recall that integers are 4 bytes long. If `+3` is to be taken literally, `arr+3` would result in holding the first/last (depending on endianness) byte of the integer, which is a big no-no. By doing `*(arr+3)`, we meant to get the third elementh of `arr`. Instead of figuring out how many bytes it takes from `arr`, when performing pointer arithmetic, the compiler already takes care of the data type sizing, so `arr+3` (when taken literally) would be `arr + (4 * 3)` (integer is 4 bytes, 3rd position).\n",
    "\n",
    "A major caveat is regarding void pointers. Since void is consider a type (or rather a lack thereof), having `void*` simply means a pointer to an arbitrary address, meaning we do not care of the type of data at that address (can be implemented to be a generic). When trying to access a `void*`, the way to go is casting to a known type. This would then provide information regarding sizing."
   ]
  },
  {
   "cell_type": "code",
   "execution_count": null,
   "id": "8f1bb49b",
   "metadata": {},
   "outputs": [
    {
     "name": "stdout",
     "output_type": "stream",
     "text": [
      "0x7ffd237134bc\n",
      "0x7ffd237134be\n"
     ]
    }
   ],
   "source": [
    "#include <stdio.h>\n",
    "\n",
    "int main(void) {\n",
    "\tint a = 3;\n",
    "\tvoid* ap = &a;\n",
    "\tprintf(\"%p\\n\", ap);\n",
    "\tap += 2;\n",
    "\n",
    "\tprintf(\"%p\\n\", ap);\n",
    "\n",
    "\treturn 0;\n",
    "}"
   ]
  },
  {
   "cell_type": "markdown",
   "id": "e805d344",
   "metadata": {},
   "source": [
    "Doing arithmetic does it by byte, But dereferencing is an issue:"
   ]
  },
  {
   "cell_type": "code",
   "execution_count": null,
   "id": "338b5395",
   "metadata": {},
   "outputs": [
    {
     "name": "stderr",
     "output_type": "stream",
     "text": [
      "/tmp/tmpbf2rqyx2.c: In function ‘main’:\n",
      "/tmp/tmpbf2rqyx2.c:10:32: warning: dereferencing ‘void *’ pointer\n",
      "   10 |         printf(\"%p: %d\\n\", ap, *ap);\n",
      "      |                                ^~~\n",
      "/tmp/tmpbf2rqyx2.c:10:32: error: invalid use of void expression\n",
      "[C kernel] GCC exited with code 1, the executable will not be executed"
     ]
    }
   ],
   "source": [
    "#include <stdio.h>\n",
    "\n",
    "int main(void) {\n",
    "\tint a = 3;\n",
    "\tvoid* ap = &a;\n",
    "\tprintf(\"%p\\n\", ap);\n",
    "\tap += 2;\n",
    "\n",
    "\tprintf(\"%p: %d\\n\", ap, *ap);\n",
    "\n",
    "\treturn 0;\n",
    "}"
   ]
  },
  {
   "cell_type": "markdown",
   "id": "1b6d69ea",
   "metadata": {},
   "source": [
    "### Aside: Function Pointers\n",
    "\n",
    "Since pointers are just addresses in memory, and code lives in memory, pointers for code does exist, although at higher level languages than assembly, the only valid pointers for code are function pointers. Function pointers have a slightly weird syntax, and it (obviously) requires a function. It's form is `ret_t (*fn)(params_t)`."
   ]
  },
  {
   "cell_type": "code",
   "execution_count": null,
   "id": "30d0762f",
   "metadata": {},
   "outputs": [
    {
     "name": "stdout",
     "output_type": "stream",
     "text": [
      "1\n"
     ]
    }
   ],
   "source": [
    "#include <stdio.h>\n",
    "\n",
    "long func(char* str, int len) {\n",
    "\tint r = 1;\n",
    "\n",
    "\t// do stuff...\n",
    "\n",
    "\treturn r;\n",
    "}\n",
    "\n",
    "int main(void) {\n",
    "\tlong (*funcptr)(char*, int);\n",
    "\n",
    "\tfuncptr = &func; // get the address of `func`\n",
    "\t// or alternatively:\n",
    "\t// funcptr = func;\n",
    "\n",
    "\tprintf(\"%ld\\n\", funcptr(\"Pointers!\", 9));\n",
    "\n",
    "\treturn 0;\n",
    "}"
   ]
  },
  {
   "cell_type": "markdown",
   "id": "08023592",
   "metadata": {},
   "source": [
    "The example above is merely for demonstration purposes. One more clear example are class methods (which underneath the whole methods are simply function pointers). Although C is not a true OOP language, it can support some of its pillars and can be \"emulated\" via structs."
   ]
  },
  {
   "cell_type": "code",
   "execution_count": null,
   "id": "e27f05b0",
   "metadata": {},
   "outputs": [
    {
     "name": "stdout",
     "output_type": "stream",
     "text": [
      "[2.300000, 3.200000, 1.000000]\n"
     ]
    }
   ],
   "source": [
    "#include <stdio.h>\n",
    "\n",
    "typedef struct _3DPoint {\n",
    "\tdouble x;\n",
    "\tdouble y;\n",
    "\tdouble z;\n",
    "\tvoid (*set)(struct _3DPoint*, double, double, double);\n",
    "\tvoid (*show)(struct _3DPoint*);\n",
    "} _3dpoint_t;\n",
    "\n",
    "void set(_3dpoint_t* point, double x, double y, double z) {\n",
    "\tpoint->x = x;\n",
    "\tpoint->y = y;\n",
    "\tpoint->z = z;\n",
    "}\n",
    "\n",
    "void show(_3dpoint_t* point) {\n",
    "\tprintf(\"[%f, %f, %f]\\n\", point->x, point->y, point->z);\n",
    "}\n",
    "\n",
    "int main(void) {\n",
    "\t_3dpoint_t point;\n",
    "\tpoint.set = set;\n",
    "\tpoint.show = show;\n",
    "\n",
    "\tpoint.set(&point, 2.3, 3.2, 1);\n",
    "\tpoint.show(&point);\n",
    "\n",
    "\treturn 0;\n",
    "}"
   ]
  },
  {
   "cell_type": "markdown",
   "id": "20bfbf3b",
   "metadata": {},
   "source": [
    "The field `set` is merely a pointer that, instead pointing to the stack or the heap, points to the code of the given function, in this case `void set(_3dpoint_t*,double,double,double)`.\n",
    "\n",
    "Structs will be explained in more detailed in the following module."
   ]
  }
 ],
 "metadata": {
  "kernelspec": {
   "display_name": "C",
   "language": "c",
   "name": "c"
  },
  "language_info": {
   "file_extension": ".c",
   "mimetype": "text/plain",
   "name": "c"
  }
 },
 "nbformat": 4,
 "nbformat_minor": 5
}
