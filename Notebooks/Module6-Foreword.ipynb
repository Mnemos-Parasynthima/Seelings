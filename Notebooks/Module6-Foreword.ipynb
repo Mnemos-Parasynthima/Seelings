{
 "cells": [
  {
   "cell_type": "markdown",
   "id": "24b2013b",
   "metadata": {},
   "source": [
    "# Module 6 - Foreword"
   ]
  },
  {
   "cell_type": "markdown",
   "id": "3ee30b5c",
   "metadata": {},
   "source": [
    "Remember that **Seelings** is just to test current basic knowledge and is not in any form of high complexity. Also, since you are running MacOS, there are some differences compared to how Linux operates. Additionally, libraries differ. For example, Windows has `<Windows.h>` while Linux has `<unistd.h>` (which is used in comp arch). My recommendation is to learn those linux-specific utilities and functionalities. This can either be by simply using some web-based system, simply looking/learning through videos, run some system emulator like QEMU, or for a more hardcore way, running a VM. I have the fortune of using WSL (Windows Subsystem for Linux) that allows me to run linux utilities and non-gui programs."
   ]
  },
  {
   "cell_type": "markdown",
   "id": "51954282",
   "metadata": {},
   "source": [
    "## Resources\n",
    "\n",
    "Since C is extremely commong and one of the most taught languages, there exists many, many resources. On youtube, books, blog posts, etc. The following are my top resources:\n",
    "\n",
    "https://www.tutorialspoint.com/c_standard_library/index.htm\n",
    "- Showcases the standard library. The most common ones are `stdlib`, `stdio`, `stdbool`, `string`, `stdint`\n",
    "\n",
    "https://www.youtube.com/@LowLevelTV\n",
    "- A youtuber that discusses many things about C and other low-level languages (hence the channel name)\n",
    "\n",
    "https://www.youtube.com/@JacobSorber\n",
    "- A youtuber that also discusses C stuff\n",
    "\n",
    "\n",
    "Although I am unsure for MacOS, there exists manpages (`man`) in linux which is the documentation for many of c functions and utilities, as well as linux utilities. For example, doing `man strtok` allows me to see documentation for `strtok()`. Doing `man ls` shows documentation for the `ls` command that is in linux/shell.\n",
    "\n",
    "Comp arch and OS will tell you to refer to the manpages many times."
   ]
  },
  {
   "cell_type": "markdown",
   "id": "b5945f5a",
   "metadata": {},
   "source": [
    "Honorable Mentions\n",
    "\n",
    "These are not C-specific but help understand low-level stuff. Some might even go into OS themes.\n",
    "\n",
    "https://www.youtube.com/@ComputerScienceLessons\n",
    "\n",
    "https://www.youtube.com/@CoreDumpped\n",
    "- Very OS-heavy stuff\n",
    "\n",
    "https://www.youtube.com/@PwnFunction\n"
   ]
  },
  {
   "cell_type": "markdown",
   "id": "fb9d32ec",
   "metadata": {},
   "source": [
    "The following is provided by the comp arch course but it is given early here.\n",
    "\n",
    "https://missing.csail.mit.edu/"
   ]
  }
 ],
 "metadata": {
  "language_info": {
   "name": "python"
  }
 },
 "nbformat": 4,
 "nbformat_minor": 5
}
