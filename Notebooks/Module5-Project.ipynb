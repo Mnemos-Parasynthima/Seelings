{
 "cells": [
  {
   "cell_type": "markdown",
   "id": "916c7761",
   "metadata": {},
   "source": [
    "# Module 5 - Project (String library)"
   ]
  },
  {
   "cell_type": "markdown",
   "id": "80056a6b",
   "metadata": {},
   "source": [
    "Congratulations on this quick re-iteration on basic C stuff. As a way to completely test your basic knowledge, create a library for string functions.\n",
    "\n",
    "Implement the following functions."
   ]
  },
  {
   "cell_type": "code",
   "execution_count": null,
   "id": "323cb35c",
   "metadata": {},
   "outputs": [],
   "source": [
    "// Get the string length, excluding the null terminator\n",
    "size_t ustrlen(const char* str);\n",
    "\n",
    "// Compares the two strings lexicographically until exhaustion.\n",
    "// Return 0 if both are equal, -1 if src1 is less than src2, 1 if src2 is less than src1\n",
    "int ustrcmp(const char* str1, const char* str2);\n",
    "\n",
    "// Concatenates the string str to the end of dst\n",
    "char* ustrcat(char* dst, const char* str);\n",
    "\n",
    "// Copies the string str to the beginning of dst, overwriting anything\n",
    "char* ustrcpy(char* dst, const char* str);"
   ]
  },
  {
   "cell_type": "markdown",
   "id": "61290dd2",
   "metadata": {},
   "source": [
    "To compile it:\n",
    "```sh\n",
    ">> gcc -c -fPIC libustring.c -o libustring\n",
    ">> gcc -shared libustring.o -o libustring.dylib\n",
    "```\n",
    "\n",
    "This creates the file as a shared object library.\n",
    "\n",
    "However, the test harness already takes care of compiling it.\n",
    "\n",
    "Note that the extension for shared object libraries depend on the OS. Linux has `.so`, Windows has `.dll`, and MacOS has `.dylib`."
   ]
  }
 ],
 "metadata": {
  "kernelspec": {
   "display_name": "C",
   "language": "c",
   "name": "c"
  },
  "language_info": {
   "name": "c"
  }
 },
 "nbformat": 4,
 "nbformat_minor": 5
}
