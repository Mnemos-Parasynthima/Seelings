{
 "cells": [
  {
   "cell_type": "markdown",
   "id": "62e3040e",
   "metadata": {},
   "source": [
    "# Module 3 - Derived Types"
   ]
  },
  {
   "cell_type": "markdown",
   "id": "cba6a290",
   "metadata": {},
   "source": [
    "A classic construct in programming is user-defined types. In python and java, these are called classes (to form so somrt of analogy), javascript has prototypes/objects, etc. C (and other languages such as zig and rust) use structs. I need not to go further regarding user-defined types.\n",
    "\n",
    "However, something not present in some languages like Java (or at least directly) are unions. Unions are another important feature used commonly in C."
   ]
  },
  {
   "cell_type": "markdown",
   "id": "83fb3c57",
   "metadata": {},
   "source": [
    "## Structs"
   ]
  },
  {
   "cell_type": "markdown",
   "id": "9f8a081c",
   "metadata": {},
   "source": [
    "Recall how structs are declared: simply annotating the fields and their type. Additionally, there are some quirky ways regarding declaring and using them."
   ]
  },
  {
   "cell_type": "code",
   "execution_count": 1,
   "id": "38851544",
   "metadata": {},
   "outputs": [
    {
     "name": "stderr",
     "output_type": "stream",
     "text": [
      "/tmp/tmpgr9y8lv9.c: In function ‘main’:\n",
      "/tmp/tmpgr9y8lv9.c:9:9: error: unknown type name ‘SR’; use ‘struct’ keyword to refer to the type\n",
      "    9 |         SR _s;\n",
      "      |         ^~\n",
      "      |         struct \n",
      "/tmp/tmpgr9y8lv9.c:10:11: error: request for member ‘i’ in something not a structure or union\n",
      "   10 |         _s.i = 10;\n",
      "      |           ^\n",
      "[C kernel] GCC exited with code 1, the executable will not be executed"
     ]
    }
   ],
   "source": [
    "struct SR {\n",
    "\tint i;\n",
    "\tchar c0;\n",
    "\tchar c1;\n",
    "\tshort s0;\n",
    "};\n",
    "\n",
    "int main(void) {\n",
    "\tSR _s;\n",
    "\t_s.i = 10;\n",
    "\n",
    "\treturn 0;\n",
    "}"
   ]
  },
  {
   "cell_type": "markdown",
   "id": "5ace8949",
   "metadata": {},
   "source": [
    "When doing just `struct [name] {};`, initializing a struct variable require the usage of `struct` keyword."
   ]
  },
  {
   "cell_type": "code",
   "execution_count": 2,
   "id": "4b77b008",
   "metadata": {},
   "outputs": [],
   "source": [
    "struct SR {\n",
    "\tint i;\n",
    "\tchar c0;\n",
    "\tchar c1;\n",
    "\tshort s0;\n",
    "};\n",
    "\n",
    "int main(void) {\n",
    "\tstruct SR _s;\n",
    "\t_s.i = 10;\n",
    "\n",
    "\treturn 0;\n",
    "}"
   ]
  },
  {
   "cell_type": "markdown",
   "id": "4cab1283",
   "metadata": {},
   "source": [
    "However, there is the option of omitting `struct` via `typedef` and a tag. Additionally, the struct name can be omitted when using the tag."
   ]
  },
  {
   "cell_type": "code",
   "execution_count": 3,
   "id": "53262389",
   "metadata": {},
   "outputs": [],
   "source": [
    "typedef struct SR {\n",
    "\tint i;\n",
    "} sr_t;\n",
    "\n",
    "typedef struct {\n",
    "\tint j;\n",
    "} ssr_t;\n",
    "\n",
    "int main(void) {\n",
    "\t// Using struct is still valid\n",
    "\t// struct SR _s;\n",
    "\t// _s.i = 10;\n",
    "\n",
    "\tsr_t _s;\n",
    "\t_s.i = 12;\n",
    "\n",
    "\tssr_t __s;\n",
    "\t__s.j = 10;\n",
    "\n",
    "\n",
    "\treturn 0;\n",
    "}"
   ]
  },
  {
   "cell_type": "markdown",
   "id": "13b0040c",
   "metadata": {},
   "source": [
    "## Unions"
   ]
  },
  {
   "cell_type": "markdown",
   "id": "c7507c09",
   "metadata": {},
   "source": [
    "Everything true to structs can be applied to unions, with the exception of the nature of unions. Recall that unions only allow a single piece of data to be accessed. In other words, all members are overlayed."
   ]
  },
  {
   "cell_type": "code",
   "execution_count": 4,
   "id": "79bbd199",
   "metadata": {},
   "outputs": [
    {
     "name": "stdout",
     "output_type": "stream",
     "text": [
      "_u.a = aaee00ff\n"
     ]
    }
   ],
   "source": [
    "#include <stdio.h>\n",
    "\n",
    "union UN {\n",
    "\tint a;\n",
    "\tchar b;\n",
    "};\n",
    "\n",
    "int main(void) {\n",
    "\tunion UN _u;\n",
    "\t_u.a = 0xaaee0011;\n",
    "\t_u.b = 0xff;\n",
    "\n",
    "\tprintf(\"_u.a = %x\\n\", _u.a);\n",
    "\n",
    "\treturn 0;\n",
    "}"
   ]
  },
  {
   "cell_type": "markdown",
   "id": "f5b5bdf1",
   "metadata": {},
   "source": [
    "| Bits | 31-24  | 23-16  |  15-8  |  7-0   |\n",
    "|------|--------|--------|--------|--------|\n",
    "|  a   | `0xaa` | `0xee` | `0x00` | `0x11` |\n",
    "|  b   | `0x00` | `0x00` | `0x00` | `0xff` |\n",
    "|  -   | `0xaa` | `0xee` | `0x00` | `0xff` |\n",
    "\n",
    "The table above shows the union at its address and how each data is viewed in its own \"scope\". The bottom row shows the combined (after setting `a` and `b`). When viewing `b`, its type is `char` (1 byte), so naturally, `0xff` is the result. However, viewing `a` would result in the entire 4 bytes: `0xaaee00ff`. Changing the data with the incorrect type would lead to bugs. That is why it is important to make sure only one member is being set and accessed. This can be done through flags or manually checked/implemented."
   ]
  }
 ],
 "metadata": {
  "kernelspec": {
   "display_name": "C",
   "language": "c",
   "name": "c"
  },
  "language_info": {
   "file_extension": ".c",
   "mimetype": "text/plain",
   "name": "c"
  }
 },
 "nbformat": 4,
 "nbformat_minor": 5
}
