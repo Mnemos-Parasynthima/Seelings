{
 "cells": [
  {
   "cell_type": "markdown",
   "id": "62df0f6f",
   "metadata": {},
   "source": [
    "# Module 1 - C Basics"
   ]
  },
  {
   "cell_type": "markdown",
   "id": "a1b26ceb",
   "metadata": {},
   "source": [
    "## Strings"
   ]
  },
  {
   "cell_type": "markdown",
   "id": "925bbf09",
   "metadata": {},
   "source": [
    "Recall that strings are arrays of characters, sometimes denoted as `char[]`, ending with the null terminator `\\0` (`0x0`). Getting the length of strings vary depending on how they are created and used, either in the stack or in the heap. Some ways that strings are created are as follows."
   ]
  },
  {
   "cell_type": "code",
   "execution_count": 1,
   "id": "3577e9c9",
   "metadata": {},
   "outputs": [
    {
     "name": "stderr",
     "output_type": "stream",
     "text": [
      "/tmp/tmp9elcflv6.c:3:25: error: expected ‘)’ before string constant\n",
      "    3 | char* str2; strcpy(str2, \"Heap string.\");\n",
      "      |                         ^~~~~~~~~~~~~~~\n",
      "      |                         )\n",
      "[C kernel] GCC exited with code 1, the executable will not be executed"
     ]
    }
   ],
   "source": [
    "char str0[] = \"This is a string.\";\n",
    "char str1[] = {'H', 'e', 'l', 'l', 'o', '\\n'};\n",
    "char* str2; strcpy(str2, \"Heap string.\");"
   ]
  },
  {
   "cell_type": "markdown",
   "id": "ce8f0792",
   "metadata": {},
   "source": [
    "`str0` creates a stack-allocate string using literals. It automatically adds in the null terminator. `str1` represents more in its array form, although adding the null terminator needs to be manual. `str2` is a heap-allocated string, also known as a character pointer. More in detail in **Module 2**. There are several ways to place a string in the heap but the most common is `strcpy`."
   ]
  },
  {
   "cell_type": "markdown",
   "id": "e27e661c",
   "metadata": {},
   "source": [
    "Due to how strings are represented, getting the length is more complicated. The only way in which the compiler aids is when the string is statically declared, in the same scope, and the length is known at compile time. For example, `str0` has the length `sizeof(str0) / sizeof(str0[0])`. Note that this way includes the null terminator. Let's break it down.\n",
    "\n",
    "- `sizeof()`: a function that gets how many bytes the object is passed in\n",
    "- `sizeof(str0)`: how many bytes `str0` uses (a character is one byte), including `\\0` (18 bytes)\n",
    "- `sizeof(str0[0])`: how many bytes `str0[0]` (the first element) uses (1 byte)\n",
    "\n",
    "$ 18 / 1 = 18$ bytes\n",
    "\n",
    "Note the emphasize on same scope. When an array is passed to a function, it decomposes so a pointer, so any information is lost."
   ]
  },
  {
   "cell_type": "markdown",
   "id": "008f6363",
   "metadata": {},
   "source": [
    "Otherwise, however, the length must be manually calculated through looping or explicitly given. Considering getting the length of a string is one of the most common needs, `string.h` includes a `strlen()` function and does not includes the null terminator in its returned length. Nevertheless, there might be other instances that requires iterating through a string, so the most common way is to use the null terminator as an ending point while changing the pointer.\n",
    "\n",
    "For example:"
   ]
  },
  {
   "cell_type": "code",
   "execution_count": null,
   "id": "1d2ece99",
   "metadata": {},
   "outputs": [
    {
     "name": "stdout",
     "output_type": "stream",
     "text": [
      "S\n",
      "m\n",
      " \n",
      "t\n",
      "i\n",
      "g\n"
     ]
    }
   ],
   "source": [
    "#include <stdio.h>\n",
    "\n",
    "int main(void) {\n",
    "\tchar str[] = \"Some string.\";\n",
    "\tchar* temp = str;\n",
    "\n",
    "\tfor (int i = 0; *temp != '\\0'; temp++, i++) {\n",
    "\t\tif (i % 2 == 0) printf(\"%c\\n\", *temp);\n",
    "\t}\n",
    "}"
   ]
  },
  {
   "cell_type": "markdown",
   "id": "4ddd9c68",
   "metadata": {},
   "source": [
    "## Function Definitions"
   ]
  },
  {
   "cell_type": "markdown",
   "id": "b3c69744",
   "metadata": {},
   "source": [
    "When a function is used (called), it is assumed that it is defined prior. In other words, functions are not hoisted. For example, the following code does not work."
   ]
  },
  {
   "cell_type": "code",
   "execution_count": null,
   "id": "e4020dfe",
   "metadata": {},
   "outputs": [
    {
     "name": "stderr",
     "output_type": "stream",
     "text": [
      "/tmp/tmp9gk6tnhc.c: In function ‘main’:\n",
      "/tmp/tmp9gk6tnhc.c:5:18: warning: implicit declaration of function ‘functionA’ [-Wimplicit-function-declaration]\n",
      "    5 |         char r = functionA(10);\n",
      "      |                  ^~~~~~~~~\n",
      "/tmp/tmp9gk6tnhc.c: At top level:\n",
      "/tmp/tmp9gk6tnhc.c:10:6: error: conflicting types for ‘functionA’; have ‘char(int)’\n",
      "   10 | char functionA(int a) {\n",
      "      |      ^~~~~~~~~\n",
      "/tmp/tmp9gk6tnhc.c:5:18: note: previous implicit declaration of ‘functionA’ with type ‘int()’\n",
      "    5 |         char r = functionA(10);\n",
      "      |                  ^~~~~~~~~\n",
      "[C kernel] GCC exited with code 1, the executable will not be executed"
     ]
    }
   ],
   "source": [
    "#include <stdio.h>\n",
    "\n",
    "int main(void) {\n",
    "\tchar r = functionA(10);\n",
    "\n",
    "\treturn 0;\n",
    "}\n",
    "\n",
    "char functionA(int a) {\n",
    "\tprintf(\"Hi %d!\\n\", a);\n",
    "\n",
    "\treturn 'H';\n",
    "}"
   ]
  },
  {
   "cell_type": "markdown",
   "id": "c3b0fe07",
   "metadata": {},
   "source": [
    "However, it may work under certain circumstances, such as:"
   ]
  },
  {
   "cell_type": "code",
   "execution_count": null,
   "id": "7e63cb48",
   "metadata": {},
   "outputs": [
    {
     "name": "stderr",
     "output_type": "stream",
     "text": [
      "/tmp/tmptvt74u5s.c: In function ‘main’:\n",
      "/tmp/tmptvt74u5s.c:5:9: warning: implicit declaration of function ‘functionA’ [-Wimplicit-function-declaration]\n",
      "    5 |         functionA();\n",
      "      |         ^~~~~~~~~\n",
      "/tmp/tmptvt74u5s.c: At top level:\n",
      "/tmp/tmptvt74u5s.c:10:6: warning: conflicting types for ‘functionA’; have ‘void()’\n",
      "   10 | void functionA() {\n",
      "      |      ^~~~~~~~~\n",
      "/tmp/tmptvt74u5s.c:5:9: note: previous implicit declaration of ‘functionA’ with type ‘void()’\n",
      "    5 |         functionA();\n",
      "      |         ^~~~~~~~~\n"
     ]
    },
    {
     "name": "stdout",
     "output_type": "stream",
     "text": [
      "Hi!\n"
     ]
    }
   ],
   "source": [
    "#include <stdio.h>\n",
    "\n",
    "int main(void) {\n",
    "\tfunctionA();\n",
    "\n",
    "\treturn 0;\n",
    "}\n",
    "\n",
    "void functionA() {\n",
    "\tprintf(\"Hi!\\n\");\n",
    "}"
   ]
  },
  {
   "cell_type": "markdown",
   "id": "b8f60e9f",
   "metadata": {},
   "source": [
    "But the errors indicate otherwise. When a function is called but not declared, the compiler assumes it's signature to be `int f(void);`. This can be not an issue when the return type is an `int` by coincidence (or no return), and parameters are not used. Aside from those cases, any other would result in a compiler error, as seen by the prior code.\n",
    "\n",
    "Two ways to fix this is by either moving the function before it is called or by placing a forward declaration. Forward declarations take the form of the normal function signature but end with `;` instead of `{`. So the following illustrates such."
   ]
  },
  {
   "cell_type": "code",
   "execution_count": null,
   "id": "480f2f6c",
   "metadata": {},
   "outputs": [
    {
     "name": "stdout",
     "output_type": "stream",
     "text": [
      "Hi 10!\n"
     ]
    }
   ],
   "source": [
    "#include <stdio.h>\n",
    "\n",
    "// Method 1: forward declaration\n",
    "char functionA(int a);\n",
    "\n",
    "// Method 2: definition prior\n",
    "char functionA(int a) {\n",
    "\tprintf(\"Hi %d!\\n\", a);\n",
    "\n",
    "\treturn 'H';\n",
    "}\n",
    "\n",
    "int main(void) {\n",
    "\tchar r = functionA(10);\n",
    "\n",
    "\treturn 0;\n",
    "}"
   ]
  },
  {
   "cell_type": "markdown",
   "id": "e1e5b298",
   "metadata": {},
   "source": [
    "Also note that it is completely fine to have both a forward declaration and the definition prior. Some cases are when one wants to declare all functions at the top then define them later, as a way to indicate the reader about them."
   ]
  },
  {
   "cell_type": "markdown",
   "id": "1bd43e9d",
   "metadata": {},
   "source": [
    "## Arrays"
   ]
  },
  {
   "cell_type": "markdown",
   "id": "621d170f",
   "metadata": {},
   "source": [
    "Arrays are a foundational data structure. Underneath the hood, arrays are just contiguous bytes of data. How many bytes an element takes up depends on the type of element, and so, arrays can hold anything, as long as all of them are of the same type, at least in certain languages, such as C.\n",
    "\n",
    "Considering this, arrays in C are just \"pointers\" pointing to the first element, and so, there is no information regarding them, especially its length.\n",
    "And so, getting/knowing the length can be tricky, similar to strings (after all, strings are just character arrays).\n",
    "\n",
    "One way is to use a sentinel, that is, an element indicating the termination. For example, strings have the null character as its sentinel. Deciding what sentinel to use depends on the type of data the array might hold."
   ]
  },
  {
   "cell_type": "code",
   "execution_count": null,
   "id": "1791a53a",
   "metadata": {},
   "outputs": [
    {
     "name": "stdout",
     "output_type": "stream",
     "text": [
      "100\n"
     ]
    }
   ],
   "source": [
    "#include <stdio.h>\n",
    "\n",
    "int highestGrades(int grades[]) {\n",
    "\tint max = -1;\n",
    "\tfor (int i = 0; grades[i] != -1; i++)\t{\n",
    "\t\tint curr = grades[i];\n",
    "\n",
    "\t\tif (curr > max) max = curr;\n",
    "\t}\n",
    "\n",
    "\treturn max;\n",
    "}\n",
    "\n",
    "int main(void) {\n",
    "\tint grades[] = {\n",
    "\t\t100, 78, 88, 99, 89, 82, 50, 20, 74, 75, -1\n",
    "\t};\n",
    "\n",
    "\tint highest = highestGrades(grades);\n",
    "\tprintf(\"%d\\n\", highest);\n",
    "}"
   ]
  },
  {
   "cell_type": "markdown",
   "id": "31b87f00",
   "metadata": {},
   "source": [
    "In this example, we are given an array of grades, `grades`. We know that grades cannot be negative, so having a sentinel value as `-1` makes perfect sense. This allows us to loop through it using `grades[i] != -1`, similar to `*str != '\\0'`. Note, however, that if using `grades` in the same scope as where it was defined, getting its length is easy: `sizeof(grades) / sizeof(grades[0])`. But since it is being passed via a function, it collapses to a pointer. In fact, the following is the assembly (in x86-64):\n",
    "\n",
    "```nasm\n",
    "0000000000001169 <getMax>:\n",
    "    1169:\tendbr64 \n",
    "    116d:\tpush   rbp\n",
    "    116e:\tmov    rbp,rsp\n",
    "    1171:\tmov    QWORD PTR [rbp-0x18],rdi\n",
    "    1175:\tmov    DWORD PTR [rbp-0xc],0xffffffff\n",
    "    ... \n",
    "\n",
    "00000000000011d0 <main>:\n",
    "    11d0:\tendbr64 \n",
    "    11d4:\tpush   rbp\n",
    "    11d5:\tmov    rbp,rsp\n",
    "    11d8:\tsub    rsp,0x40\n",
    "    11dc:\tmov    rax,QWORD PTR fs:0x28\n",
    "    11e3: \n",
    "    11e5:\tmov    QWORD PTR [rbp-0x8],rax\n",
    "    11e9:\txor    eax,eax\n",
    "    11eb:\tmov    DWORD PTR [rbp-0x30],0x64\n",
    "    11f2:\tmov    DWORD PTR [rbp-0x2c],0x5a\n",
    "    11f9:\tmov    DWORD PTR [rbp-0x28],0x1e\n",
    "    1200:\tmov    DWORD PTR [rbp-0x24],0x35\n",
    "    1207:\tmov    DWORD PTR [rbp-0x20],0x4e\n",
    "    120e:\tmov    DWORD PTR [rbp-0x1c],0x63\n",
    "    1215:\tmov    DWORD PTR [rbp-0x18],0x45\n",
    "    121c:\tmov    DWORD PTR [rbp-0x14],0x54\n",
    "    1223:\tmov    DWORD PTR [rbp-0x10],0x5e\n",
    "    122a:\tmov    DWORD PTR [rbp-0xc],0xffffffff\n",
    "    1231:\tlea    rax,[rbp-0x30]\n",
    "    1235:\tmov    rdi,rax\n",
    "    1238:\tcall   1169 <getMax>\n",
    "    ...\n",
    "```\n",
    "\n",
    "Unnecessary instruction were omitted.\n",
    "Although this seems daunting, let's break it down.\n",
    "The array gets created (in the stack) beginning at address `0x11eb`, placing it at `rbp-0x30`. We see this is true as in `0x122a`, we see `0xffffffff`, which is `-1`. Based on the label `<getMax>` and instruction `call`, we can infer this is were calling the function happens.\n",
    "What about the argument?\n",
    "Although this is for later elaboration, arguments get passed in a certain convention. In this convention, the first argument gets passed in `rdi`. So, since the array starts at `rbp-0x30`, instruction `0x1231` places the address to `rax`, which then gets placed in `rdi`.\n",
    "In the function, at `0x1171`, the contents of `rdi` (in this case, the address of the array, aka a pointer) is loaded to `rbp-0x18`.\n",
    "The rest does not matter for now but it just works on that address.\n",
    "In the end, passing an array to a function collapses to a pointer, losing any information it had.\n",
    "\n",
    "So, another way is by simply passing in its length through functions. This is most commonly seen by the `main()` signature: `int main(int argc, char** argv)`.\n",
    "In this case, `argv` is an array of strings, and `argc` just indicates how many strings it has."
   ]
  },
  {
   "cell_type": "markdown",
   "id": "4299bed8",
   "metadata": {},
   "source": [
    "As mentioned many times, arrays can be considered pointers, so another notation to arrays is using the pointer: such as `int* arr`. This is equivalent to `int arr[]`. Similar to how setting the contents of an array can be done via `arr[i] = x`, doing so using a pointer array is easy as well. This gets into pointer arithmetic (a core feature in C). Accessing an element is analogous to dereferencing. And so, `arr[i] = x` is the same as `*(arr + i) = x`."
   ]
  },
  {
   "cell_type": "code",
   "execution_count": 7,
   "id": "b3253e09",
   "metadata": {},
   "outputs": [
    {
     "name": "stdout",
     "output_type": "stream",
     "text": [
      "arr[i]: 0\tarr2[i]: 0\n",
      "arr[i]: 20\tarr2[i]: 20\n",
      "arr[i]: 40\tarr2[i]: 40\n",
      "arr[i]: 60\tarr2[i]: 60\n",
      "arr[i]: 80\tarr2[i]: 80\n",
      "arr[i]: 100\tarr2[i]: 100\n",
      "arr[i]: 120\tarr2[i]: 120\n",
      "arr[i]: 140\tarr2[i]: 140\n",
      "arr[i]: 160\tarr2[i]: 160\n",
      "arr[i]: 180\tarr2[i]: 180\n",
      "arr[i]: 200\tarr2[i]: 200\n",
      "arr[i]: 220\tarr2[i]: 220\n",
      "arr[i]: 240\tarr2[i]: 240\n",
      "arr[i]: 260\tarr2[i]: 260\n",
      "arr[i]: 280\tarr2[i]: 280\n",
      "arr[i]: 300\tarr2[i]: 300\n",
      "arr[i]: 320\tarr2[i]: 320\n",
      "arr[i]: 340\tarr2[i]: 340\n",
      "arr[i]: 360\tarr2[i]: 360\n",
      "arr[i]: 380\tarr2[i]: 380\n"
     ]
    }
   ],
   "source": [
    "#include <stdio.h>\n",
    "\n",
    "\n",
    "int main(void) {\n",
    "\t// Initialize two arrays of length 20\n",
    "\t// This automatically fills it in as zeros (depends)\n",
    "\tint arr[20];\n",
    "\tint arr2[20];\n",
    "\n",
    "\tfor (int i = 0; i < 20; i++) {\n",
    "\t\tarr[i] = i * 20; // assignment using array notation\n",
    "\t\t*(arr2 + i) = i * 20; // assignment using pointer/arithmetic notation\n",
    "\n",
    "\t\tprintf(\"arr[i]: %d\\tarr2[i]: %d\\n\", arr[i], arr2[i]);\n",
    "\t}\n",
    "\n",
    "\treturn 0;\n",
    "}"
   ]
  },
  {
   "cell_type": "markdown",
   "id": "76e8dd47",
   "metadata": {},
   "source": [
    "## Bit Operations"
   ]
  },
  {
   "cell_type": "markdown",
   "id": "3425b96f",
   "metadata": {},
   "source": [
    "Bit operations are commonly used in many systems programs, as they allow the manipulation of individual bits.\n",
    "\n",
    "These bit operators are:\n",
    "- `|`: bitwise or\n",
    "- `&`: bitwise and\n",
    "- `^`: bitwise xor\n",
    "- `~`: bitwise not\n",
    "\n",
    "The operations behind these bitwise operators follow the same logic as their logical/boolean counterparts.\n",
    "For example, the OR truth table is:\n",
    "| A | B | C |\n",
    "|---|---|---|\n",
    "| 0 | 0 | 0 |\n",
    "| 0 | 1 | 1 |\n",
    "| 1 | 0 | 1 |\n",
    "| 1 | 1 | 1 |\n",
    "\n",
    "Bitwise OR follows the same logic but on the bit level. For example, `1 | 2` is `01 | 10` in binary terms. Thus applying the operator is:\n",
    "\n",
    "| Bit 1 | Bit 0 |\n",
    "|---|---|\n",
    "| 0 | 1 |\n",
    "| 1 | 0 |\n",
    "| - | - |\n",
    "| 1 | 1 |\n",
    "\n",
    "So `1 | 2` results in `3`.\n",
    "\n",
    "\n",
    "Considering this capability, bit operations can aid in specific bit needs. Most commonly are\n",
    "- extracting a bit (or bitrange)\n",
    "- setting a bit (or bitrange)\n",
    "- clearing a bit (or bitrange)\n",
    "- toggling a bit (or bitrange)"
   ]
  },
  {
   "cell_type": "markdown",
   "id": "cefc75ca",
   "metadata": {},
   "source": [
    "There are two additional bit operations:\n",
    "- `<<`: logical left shift\n",
    "- `>>`: logical/arithmetic right shift\n",
    "\n",
    "These, as their name implies, shift the bits of a number.\n",
    "For example, `3 << 2` means shift `3` to the left by `2` bits. In binary form: `0b11 << 2`. So the two `1`s are shifted to the left by 2: `0b1100`. Note that shifting left creates `0`s on the least significant bits.\n",
    "\n",
    "However, there are two types of right shifts, due to the nature of signed and unsigned. Arithmetic fills in the (leftmost/most significant) bits to `1`s instead of `0`s (which logical does). This preserves two's complements.\n",
    "\n",
    "For example:\n",
    "`-90 >> 2` when `signed char -90;` is in binary form `0b1010_0110 >> 2`, arithmetic shifting would result in `0b1110_1001`. Note that `0b10` from the end got \"chopped off\" and `0b11` were added in the most significant bits.\n",
    "Using logical shift would lead to `0b0010_1001` instead."
   ]
  },
  {
   "cell_type": "markdown",
   "id": "719f81f9",
   "metadata": {},
   "source": [
    "Using a combination of the bitwise operators and bit shifts, the aforementioned needs can be applied.\n",
    "\n",
    "To extract a bit (or bitrange), three operands are needed: the number itself, a mask, and a shift.\n",
    "A mask indicates \"how many bits\" one wants to work on. Extracting a single bit would result in the mask simply being `0b1`. However, extracting a range would require more `1`s. For example, if the range is to be 4 bits long, the mask would need to be `0b1111`. The shift ensures the extracting begins at the right place and results in just the needed number."
   ]
  },
  {
   "cell_type": "code",
   "execution_count": null,
   "id": "129f3580",
   "metadata": {},
   "outputs": [
    {
     "name": "stdout",
     "output_type": "stream",
     "text": [
      "Expected: 11; Actual: 11\n"
     ]
    }
   ],
   "source": [
    "#include <stdio.h>\n",
    "\n",
    "int main(void) {\n",
    "\t// The bits to be extracted are the middle four\n",
    "\n",
    "\tint a = 0b110110;\n",
    "\tint mask = 0b1111;\n",
    "\tint shift = 1; \n",
    "\t// shift of 1 since the \"middle\" starts at the 1st bit (0-indexed from the right), so shifting by 1 places the range at 0\n",
    "\n",
    "\tint extracted = (a >> shift) & mask;\n",
    "\n",
    "\tprintf(\"Expected: %d; Actual: %d\\n\", 0b1011, extracted);\n",
    "\n",
    "\treturn 0;\n",
    "}"
   ]
  },
  {
   "cell_type": "markdown",
   "id": "2289a46c",
   "metadata": {},
   "source": [
    "To set a bit (or bitrange) means making the bit to a `1` no matter what."
   ]
  },
  {
   "cell_type": "markdown",
   "id": "b5aae978",
   "metadata": {},
   "source": [
    "Note that bit operations are not C-specific, as they exist in other languages, but they are used a lot in c code."
   ]
  }
 ],
 "metadata": {
  "kernelspec": {
   "display_name": "C",
   "language": "c",
   "name": "c"
  },
  "language_info": {
   "file_extension": ".c",
   "mimetype": "text/plain",
   "name": "c"
  }
 },
 "nbformat": 4,
 "nbformat_minor": 5
}
